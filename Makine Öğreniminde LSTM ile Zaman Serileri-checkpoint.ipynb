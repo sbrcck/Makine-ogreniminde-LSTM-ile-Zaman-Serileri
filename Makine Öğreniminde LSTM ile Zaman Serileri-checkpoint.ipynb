{
 "cells": [
  {
   "cell_type": "markdown",
   "id": "d3fe5b51",
   "metadata": {},
   "source": [
    "## Zaman Serisi Tahmini Nedir?"
   ]
  },
  {
   "cell_type": "markdown",
   "id": "3812c0c0",
   "metadata": {},
   "source": [
    "Zaman serisi tahmini, olayları bir zaman dizisi aracılığıyla tahmin etmek için kullanılan bir tekniktir. Teknik, jeolojiden davranışa ve ekonomiye kadar birçok çalışma alanında kullanılmaktadır. Teknikler, gelecekteki eğilimlerin geçmiş eğilimlere benzer olacağını varsayarak, geçmişteki eğilimleri analiz ederek gelecekteki olayları tahmin eder."
   ]
  },
  {
   "cell_type": "markdown",
   "id": "a631fd3f",
   "metadata": {},
   "source": [
    "## LSTM nedir?"
   ]
  },
  {
   "cell_type": "markdown",
   "id": "49ffc1ca",
   "metadata": {},
   "source": [
    "LSTM Kısa Süreli Uzun Süreli Bellek anlamına gelir. Tekrarlayan sinir ağlarının hafızasını genişleten bir model veya mimaridir. Tipik olarak, tekrarlayan sinir ağları, mevcut sinir ağında kullanım için kalıcı geçmiş bilgileri kullandıkları için \"kısa süreli belleğe\" sahiptir. Esasen, önceki bilgiler mevcut görevde kullanılır. Bu, sinir düğümü için mevcut tüm önceki bilgilerin bir listesine sahip olmadığımız anlamına gelir."
   ]
  },
  {
   "cell_type": "markdown",
   "id": "e7b85284",
   "metadata": {},
   "source": [
    "## LSTM ile Tahmin Zaman Serileri"
   ]
  },
  {
   "cell_type": "markdown",
   "id": "30011398",
   "metadata": {},
   "source": [
    "Umarım zaman serisi tahmininin ne anlama geldiğini ve LSTM modellerinin ne olduğunu anlamışsınızdır. Şimdi, Makine Öğreniminde LSTM ile zaman serilerini tahmin etmek için bir makine öğrenimi modeli oluşturmaya başlayacağız."
   ]
  },
  {
   "cell_type": "markdown",
   "id": "8bcc8ec3",
   "metadata": {},
   "source": [
    "LSTM ile zaman serilerini tahmin etmek için bu görevde, ihtiyacımız olan tüm gerekli paketleri içe aktararak başlıyoruz"
   ]
  },
  {
   "cell_type": "code",
   "execution_count": 39,
   "id": "af2c3dd1",
   "metadata": {},
   "outputs": [],
   "source": [
    "import numpy\n",
    "import matplotlib.pyplot as plt \n",
    "import pandas \n",
    "import math\n",
    "from keras.models import Sequential\n",
    "from keras.layers import Dense\n",
    "from keras.layers import LSTM \n",
    "from sklearn.preprocessing import MinMaxScaler\n",
    "from  sklearn.metrics import mean_squared_error\n",
    "# tekrarlanabilirlik için rastgele tohumu düzeltme\n",
    "numpy.random.seed(7)\n",
    "\n"
   ]
  },
  {
   "cell_type": "markdown",
   "id": "af6d2812",
   "metadata": {},
   "source": [
    "Şimdi verileri yükleyelim ve LSTM modelinde kullanabilmemiz için verileri hazırlayalım"
   ]
  },
  {
   "cell_type": "code",
   "execution_count": 40,
   "id": "3751f549",
   "metadata": {},
   "outputs": [],
   "source": [
    "dataframe = pandas.read_csv('airline-passengers.txt', usecols=[1], engine='python')\n",
    "dataset = dataframe.values\n",
    "dataset = dataset.astype('float32')\n",
    "# normalize the dataset\n",
    "scaler = MinMaxScaler(feature_range=(0, 1))\n",
    "dataset = scaler.fit_transform(dataset)"
   ]
  },
  {
   "cell_type": "markdown",
   "id": "bf640f63",
   "metadata": {},
   "source": [
    "Şimdi verileri eğitim setlerine ve test setlerine ayıralım"
   ]
  },
  {
   "cell_type": "code",
   "execution_count": 41,
   "id": "bcbed952",
   "metadata": {},
   "outputs": [
    {
     "name": "stdout",
     "output_type": "stream",
     "text": [
      "96 48\n"
     ]
    }
   ],
   "source": [
    "# split into train and test sets\n",
    "train_size = int(len(dataset) * 0.67)\n",
    "test_size = len(dataset) - train_size\n",
    "train, test = dataset[0:train_size,:], dataset[train_size:len(dataset),:]\n",
    "print(len(train), len(test))"
   ]
  },
  {
   "cell_type": "markdown",
   "id": "6b159433",
   "metadata": {},
   "source": [
    "### LSTM ile Zaman Serileri\n",
    "\n",
    "Şimdi verileri LSTM modeli üzerinde eğitmeden önce, verileri modele sığdırabilmemiz için hazırlamamız gerekiyor, bu görev için bir yardımcı fonksiyon tanımlayalım"
   ]
  },
  {
   "cell_type": "code",
   "execution_count": 46,
   "id": "439e1d29",
   "metadata": {},
   "outputs": [],
   "source": [
    "# convert an array of values into a dataset matrix\n",
    "def create_dataset(dataset, look_back=1):\n",
    "    dataX, dataY = [], []\n",
    "    for i in range(len(dataset)-look_back-1):\n",
    "        a = dataset[i:(i+look_back), 0]\n",
    "        dataX.append(a)\n",
    "        dataY.append(dataset[i + look_back, 0])\n",
    "    return numpy.array(dataX), numpy.array(dataY)"
   ]
  },
  {
   "cell_type": "markdown",
   "id": "09ccad8f",
   "metadata": {},
   "source": [
    "Şimdi, verileri LSTM modeline uygulamadan önce yeniden şekillendirmemiz gerekiyor"
   ]
  },
  {
   "cell_type": "code",
   "execution_count": 43,
   "id": "212d3ad0",
   "metadata": {},
   "outputs": [],
   "source": [
    "# reshape into X=t and Y=t+1\n",
    "look_back = 1\n",
    "trainX, trainY = create_dataset(train, look_back)\n",
    "testX, testY = create_dataset(test, look_back)\n",
    "# reshape input to be [samples, time steps, features]\n",
    "trainX = numpy.reshape(trainX, (trainX.shape[0], 1, trainX.shape[1]))\n",
    "testX = numpy.reshape(testX, (testX.shape[0], 1, testX.shape[1]))"
   ]
  },
  {
   "cell_type": "markdown",
   "id": "23f3eb3d",
   "metadata": {},
   "source": [
    "Şimdi, LSTM modeline uyması için veri hazırlama ile ilgili tüm görevler tamamlandığına göre, verileri modele uydurma zamanı geldi ve hadi modeli eğitelim"
   ]
  },
  {
   "cell_type": "code",
   "execution_count": 44,
   "id": "d19fd7c2",
   "metadata": {},
   "outputs": [
    {
     "name": "stdout",
     "output_type": "stream",
     "text": [
      "Epoch 1/100\n",
      "94/94 - 2s - loss: 0.0646 - 2s/epoch - 19ms/step\n",
      "Epoch 2/100\n",
      "94/94 - 0s - loss: 0.0328 - 173ms/epoch - 2ms/step\n",
      "Epoch 3/100\n",
      "94/94 - 0s - loss: 0.0242 - 167ms/epoch - 2ms/step\n",
      "Epoch 4/100\n",
      "94/94 - 0s - loss: 0.0222 - 168ms/epoch - 2ms/step\n",
      "Epoch 5/100\n",
      "94/94 - 0s - loss: 0.0208 - 166ms/epoch - 2ms/step\n",
      "Epoch 6/100\n",
      "94/94 - 0s - loss: 0.0197 - 167ms/epoch - 2ms/step\n",
      "Epoch 7/100\n",
      "94/94 - 0s - loss: 0.0188 - 167ms/epoch - 2ms/step\n",
      "Epoch 8/100\n",
      "94/94 - 0s - loss: 0.0179 - 151ms/epoch - 2ms/step\n",
      "Epoch 9/100\n",
      "94/94 - 0s - loss: 0.0169 - 166ms/epoch - 2ms/step\n",
      "Epoch 10/100\n",
      "94/94 - 0s - loss: 0.0159 - 167ms/epoch - 2ms/step\n",
      "Epoch 11/100\n",
      "94/94 - 0s - loss: 0.0150 - 167ms/epoch - 2ms/step\n",
      "Epoch 12/100\n",
      "94/94 - 0s - loss: 0.0141 - 167ms/epoch - 2ms/step\n",
      "Epoch 13/100\n",
      "94/94 - 0s - loss: 0.0132 - 151ms/epoch - 2ms/step\n",
      "Epoch 14/100\n",
      "94/94 - 0s - loss: 0.0122 - 167ms/epoch - 2ms/step\n",
      "Epoch 15/100\n",
      "94/94 - 0s - loss: 0.0112 - 166ms/epoch - 2ms/step\n",
      "Epoch 16/100\n",
      "94/94 - 0s - loss: 0.0103 - 167ms/epoch - 2ms/step\n",
      "Epoch 17/100\n",
      "94/94 - 0s - loss: 0.0095 - 167ms/epoch - 2ms/step\n",
      "Epoch 18/100\n",
      "94/94 - 0s - loss: 0.0087 - 151ms/epoch - 2ms/step\n",
      "Epoch 19/100\n",
      "94/94 - 0s - loss: 0.0077 - 166ms/epoch - 2ms/step\n",
      "Epoch 20/100\n",
      "94/94 - 0s - loss: 0.0070 - 167ms/epoch - 2ms/step\n",
      "Epoch 21/100\n",
      "94/94 - 0s - loss: 0.0062 - 151ms/epoch - 2ms/step\n",
      "Epoch 22/100\n",
      "94/94 - 0s - loss: 0.0055 - 151ms/epoch - 2ms/step\n",
      "Epoch 23/100\n",
      "94/94 - 0s - loss: 0.0049 - 166ms/epoch - 2ms/step\n",
      "Epoch 24/100\n",
      "94/94 - 0s - loss: 0.0044 - 167ms/epoch - 2ms/step\n",
      "Epoch 25/100\n",
      "94/94 - 0s - loss: 0.0040 - 177ms/epoch - 2ms/step\n",
      "Epoch 26/100\n",
      "94/94 - 0s - loss: 0.0036 - 170ms/epoch - 2ms/step\n",
      "Epoch 27/100\n",
      "94/94 - 0s - loss: 0.0032 - 177ms/epoch - 2ms/step\n",
      "Epoch 28/100\n",
      "94/94 - 0s - loss: 0.0030 - 180ms/epoch - 2ms/step\n",
      "Epoch 29/100\n",
      "94/94 - 0s - loss: 0.0027 - 177ms/epoch - 2ms/step\n",
      "Epoch 30/100\n",
      "94/94 - 0s - loss: 0.0026 - 153ms/epoch - 2ms/step\n",
      "Epoch 31/100\n",
      "94/94 - 0s - loss: 0.0025 - 182ms/epoch - 2ms/step\n",
      "Epoch 32/100\n",
      "94/94 - 0s - loss: 0.0024 - 170ms/epoch - 2ms/step\n",
      "Epoch 33/100\n",
      "94/94 - 0s - loss: 0.0023 - 181ms/epoch - 2ms/step\n",
      "Epoch 34/100\n",
      "94/94 - 0s - loss: 0.0024 - 174ms/epoch - 2ms/step\n",
      "Epoch 35/100\n",
      "94/94 - 0s - loss: 0.0023 - 149ms/epoch - 2ms/step\n",
      "Epoch 36/100\n",
      "94/94 - 0s - loss: 0.0022 - 167ms/epoch - 2ms/step\n",
      "Epoch 37/100\n",
      "94/94 - 0s - loss: 0.0022 - 167ms/epoch - 2ms/step\n",
      "Epoch 38/100\n",
      "94/94 - 0s - loss: 0.0022 - 180ms/epoch - 2ms/step\n",
      "Epoch 39/100\n",
      "94/94 - 0s - loss: 0.0022 - 175ms/epoch - 2ms/step\n",
      "Epoch 40/100\n",
      "94/94 - 0s - loss: 0.0022 - 180ms/epoch - 2ms/step\n",
      "Epoch 41/100\n",
      "94/94 - 0s - loss: 0.0021 - 168ms/epoch - 2ms/step\n",
      "Epoch 42/100\n",
      "94/94 - 0s - loss: 0.0021 - 185ms/epoch - 2ms/step\n",
      "Epoch 43/100\n",
      "94/94 - 0s - loss: 0.0022 - 162ms/epoch - 2ms/step\n",
      "Epoch 44/100\n",
      "94/94 - 0s - loss: 0.0022 - 188ms/epoch - 2ms/step\n",
      "Epoch 45/100\n",
      "94/94 - 0s - loss: 0.0022 - 183ms/epoch - 2ms/step\n",
      "Epoch 46/100\n",
      "94/94 - 0s - loss: 0.0022 - 179ms/epoch - 2ms/step\n",
      "Epoch 47/100\n",
      "94/94 - 0s - loss: 0.0022 - 181ms/epoch - 2ms/step\n",
      "Epoch 48/100\n",
      "94/94 - 0s - loss: 0.0022 - 166ms/epoch - 2ms/step\n",
      "Epoch 49/100\n",
      "94/94 - 0s - loss: 0.0022 - 181ms/epoch - 2ms/step\n",
      "Epoch 50/100\n",
      "94/94 - 0s - loss: 0.0022 - 162ms/epoch - 2ms/step\n",
      "Epoch 51/100\n",
      "94/94 - 0s - loss: 0.0022 - 166ms/epoch - 2ms/step\n",
      "Epoch 52/100\n",
      "94/94 - 0s - loss: 0.0022 - 148ms/epoch - 2ms/step\n",
      "Epoch 53/100\n",
      "94/94 - 0s - loss: 0.0022 - 166ms/epoch - 2ms/step\n",
      "Epoch 54/100\n",
      "94/94 - 0s - loss: 0.0022 - 178ms/epoch - 2ms/step\n",
      "Epoch 55/100\n",
      "94/94 - 0s - loss: 0.0022 - 171ms/epoch - 2ms/step\n",
      "Epoch 56/100\n",
      "94/94 - 0s - loss: 0.0021 - 155ms/epoch - 2ms/step\n",
      "Epoch 57/100\n",
      "94/94 - 0s - loss: 0.0022 - 184ms/epoch - 2ms/step\n",
      "Epoch 58/100\n",
      "94/94 - 0s - loss: 0.0021 - 182ms/epoch - 2ms/step\n",
      "Epoch 59/100\n",
      "94/94 - 0s - loss: 0.0021 - 160ms/epoch - 2ms/step\n",
      "Epoch 60/100\n",
      "94/94 - 0s - loss: 0.0022 - 171ms/epoch - 2ms/step\n",
      "Epoch 61/100\n",
      "94/94 - 0s - loss: 0.0022 - 184ms/epoch - 2ms/step\n",
      "Epoch 62/100\n",
      "94/94 - 0s - loss: 0.0021 - 166ms/epoch - 2ms/step\n",
      "Epoch 63/100\n",
      "94/94 - 0s - loss: 0.0022 - 165ms/epoch - 2ms/step\n",
      "Epoch 64/100\n",
      "94/94 - 0s - loss: 0.0022 - 167ms/epoch - 2ms/step\n",
      "Epoch 65/100\n",
      "94/94 - 0s - loss: 0.0022 - 192ms/epoch - 2ms/step\n",
      "Epoch 66/100\n",
      "94/94 - 0s - loss: 0.0021 - 199ms/epoch - 2ms/step\n",
      "Epoch 67/100\n",
      "94/94 - 0s - loss: 0.0022 - 189ms/epoch - 2ms/step\n",
      "Epoch 68/100\n",
      "94/94 - 0s - loss: 0.0022 - 183ms/epoch - 2ms/step\n",
      "Epoch 69/100\n",
      "94/94 - 0s - loss: 0.0022 - 188ms/epoch - 2ms/step\n",
      "Epoch 70/100\n",
      "94/94 - 0s - loss: 0.0023 - 177ms/epoch - 2ms/step\n",
      "Epoch 71/100\n",
      "94/94 - 0s - loss: 0.0022 - 184ms/epoch - 2ms/step\n",
      "Epoch 72/100\n",
      "94/94 - 0s - loss: 0.0022 - 182ms/epoch - 2ms/step\n",
      "Epoch 73/100\n",
      "94/94 - 0s - loss: 0.0022 - 188ms/epoch - 2ms/step\n",
      "Epoch 74/100\n",
      "94/94 - 0s - loss: 0.0022 - 179ms/epoch - 2ms/step\n",
      "Epoch 75/100\n",
      "94/94 - 0s - loss: 0.0022 - 184ms/epoch - 2ms/step\n",
      "Epoch 76/100\n",
      "94/94 - 0s - loss: 0.0022 - 181ms/epoch - 2ms/step\n",
      "Epoch 77/100\n",
      "94/94 - 0s - loss: 0.0021 - 184ms/epoch - 2ms/step\n",
      "Epoch 78/100\n",
      "94/94 - 0s - loss: 0.0022 - 188ms/epoch - 2ms/step\n",
      "Epoch 79/100\n",
      "94/94 - 0s - loss: 0.0022 - 178ms/epoch - 2ms/step\n",
      "Epoch 80/100\n",
      "94/94 - 0s - loss: 0.0022 - 187ms/epoch - 2ms/step\n",
      "Epoch 81/100\n",
      "94/94 - 0s - loss: 0.0022 - 173ms/epoch - 2ms/step\n",
      "Epoch 82/100\n",
      "94/94 - 0s - loss: 0.0021 - 168ms/epoch - 2ms/step\n",
      "Epoch 83/100\n",
      "94/94 - 0s - loss: 0.0022 - 169ms/epoch - 2ms/step\n",
      "Epoch 84/100\n",
      "94/94 - 0s - loss: 0.0022 - 167ms/epoch - 2ms/step\n",
      "Epoch 85/100\n",
      "94/94 - 0s - loss: 0.0021 - 153ms/epoch - 2ms/step\n",
      "Epoch 86/100\n",
      "94/94 - 0s - loss: 0.0022 - 167ms/epoch - 2ms/step\n",
      "Epoch 87/100\n",
      "94/94 - 0s - loss: 0.0021 - 151ms/epoch - 2ms/step\n",
      "Epoch 88/100\n",
      "94/94 - 0s - loss: 0.0022 - 166ms/epoch - 2ms/step\n",
      "Epoch 89/100\n",
      "94/94 - 0s - loss: 0.0022 - 151ms/epoch - 2ms/step\n",
      "Epoch 90/100\n",
      "94/94 - 0s - loss: 0.0022 - 188ms/epoch - 2ms/step\n",
      "Epoch 91/100\n",
      "94/94 - 0s - loss: 0.0021 - 159ms/epoch - 2ms/step\n",
      "Epoch 92/100\n",
      "94/94 - 0s - loss: 0.0022 - 167ms/epoch - 2ms/step\n",
      "Epoch 93/100\n",
      "94/94 - 0s - loss: 0.0021 - 151ms/epoch - 2ms/step\n",
      "Epoch 94/100\n",
      "94/94 - 0s - loss: 0.0023 - 166ms/epoch - 2ms/step\n",
      "Epoch 95/100\n",
      "94/94 - 0s - loss: 0.0022 - 151ms/epoch - 2ms/step\n",
      "Epoch 96/100\n",
      "94/94 - 0s - loss: 0.0021 - 173ms/epoch - 2ms/step\n",
      "Epoch 97/100\n",
      "94/94 - 0s - loss: 0.0022 - 157ms/epoch - 2ms/step\n",
      "Epoch 98/100\n",
      "94/94 - 0s - loss: 0.0021 - 151ms/epoch - 2ms/step\n",
      "Epoch 99/100\n",
      "94/94 - 0s - loss: 0.0022 - 166ms/epoch - 2ms/step\n",
      "Epoch 100/100\n",
      "94/94 - 0s - loss: 0.0021 - 158ms/epoch - 2ms/step\n"
     ]
    },
    {
     "data": {
      "text/plain": [
       "<keras.callbacks.History at 0x17f8b1096f0>"
      ]
     },
     "execution_count": 44,
     "metadata": {},
     "output_type": "execute_result"
    }
   ],
   "source": [
    "# create and fit the LSTM network\n",
    "model = Sequential()\n",
    "model.add(LSTM(4, input_shape=(1, look_back)))\n",
    "model.add(Dense(1))\n",
    "model.compile(loss='mean_squared_error', optimizer='adam')\n",
    "model.fit(trainX, trainY, epochs=100, batch_size=1, verbose=2)\n"
   ]
  },
  {
   "cell_type": "markdown",
   "id": "29fb1e1f",
   "metadata": {},
   "source": [
    "Şimdi python'da matplotlib paketini kullanarak tahminler yapalım ve zaman serisi trendlerini görselleştirelim"
   ]
  },
  {
   "cell_type": "code",
   "execution_count": 45,
   "id": "be72bd91",
   "metadata": {},
   "outputs": [
    {
     "name": "stdout",
     "output_type": "stream",
     "text": [
      "3/3 [==============================] - 1s 8ms/step\n",
      "2/2 [==============================] - 0s 0s/step\n"
     ]
    },
    {
     "data": {
      "image/png": "[encoded data removed]",
      "text/plain": [
       "<Figure size 432x288 with 1 Axes>"
      ]
     },
     "metadata": {
      "needs_background": "light"
     },
     "output_type": "display_data"
    }
   ],
   "source": [
    "# make predictions\n",
    "trainPredict = model.predict(trainX)\n",
    "testPredict = model.predict(testX)\n",
    "# invert predictions\n",
    "trainPredict = scaler.inverse_transform(trainPredict)\n",
    "trainY = scaler.inverse_transform([trainY])\n",
    "testPredict = scaler.inverse_transform(testPredict)\n",
    "testY = scaler.inverse_transform([testY])\n",
    "# calculate root mean squared error\n",
    "trainScore = math.sqrt(mean_squared_error(trainY[0], trainPredict[:,0]))\n",
    "testScore = math.sqrt(mean_squared_error(testY[0], testPredict[:,0]))\n",
    "\n",
    "# shift train predictions for plotting\n",
    "trainPredictPlot = numpy.empty_like(dataset)\n",
    "trainPredictPlot[:, :] = numpy.nan\n",
    "trainPredictPlot[look_back:len(trainPredict)+look_back, :] = trainPredict\n",
    "# shift test predictions for plotting\n",
    "testPredictPlot = numpy.empty_like(dataset)\n",
    "testPredictPlot[:, :] = numpy.nan\n",
    "testPredictPlot[len(trainPredict)+(look_back*2)+1:len(dataset)-1, :] = testPredict\n",
    "# plot baseline and predictions\n",
    "plt.plot(scaler.inverse_transform(dataset))\n",
    "plt.plot(trainPredictPlot)\n",
    "plt.plot(testPredictPlot)\n",
    "plt.show()"
   ]
  },
  {
   "cell_type": "code",
   "execution_count": null,
   "id": "521613ce",
   "metadata": {},
   "outputs": [],
   "source": []
  }
 ],
 "metadata": {
  "kernelspec": {
   "display_name": "Python 3 (ipykernel)",
   "language": "python",
   "name": "python3"
  },
  "language_info": {
   "codemirror_mode": {
    "name": "ipython",
    "version": 3
   },
   "file_extension": ".py",
   "mimetype": "text/x-python",
   "name": "python",
   "nbconvert_exporter": "python",
   "pygments_lexer": "ipython3",
   "version": "3.10.5"
  }
 },
 "nbformat": 4,
 "nbformat_minor": 5
}
